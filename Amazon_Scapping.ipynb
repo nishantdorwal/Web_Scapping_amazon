{
 "cells": [
  {
   "cell_type": "code",
   "execution_count": 14,
   "id": "ffdebe68",
   "metadata": {},
   "outputs": [
    {
     "name": "stdout",
     "output_type": "stream",
     "text": [
      "Data extracted and saved to amazon_books.xlsx\n"
     ]
    }
   ],
   "source": [
    "\n",
    "\n",
    "from bs4 import BeautifulSoup\n",
    "import pandas as pd\n",
    "#import openpyxl\n",
    "\n",
    "\n",
    "# --- Step 1: Read the HTML file ---\n",
    "with open(\"amazon.html\", \"r\", encoding=\"utf-8\") as f:\n",
    "    html_content = f.read()\n",
    "\n",
    "# --- Step 2: Parse with BeautifulSoup ---\n",
    "soup = BeautifulSoup(html_content, \"html.parser\")\n",
    "\n",
    "# --- Step 3: Find all book containers ---\n",
    "books = soup.find_all(\"div\", class_=\"zg-grid-general-faceout\")\n",
    "\n",
    "data = []\n",
    "\n",
    "for book in books:\n",
    "    # Extract book name\n",
    "    try:\n",
    "        book_name = book.find(\"div\", class_=\"_cDEzb_p13n-sc-css-line-clamp-1_1Fn1y\").get_text(strip=True)\n",
    "    except:\n",
    "        book_name = \" \"\n",
    "\n",
    "    # Extract author\n",
    "    try:\n",
    "        author = book.find(\"div\", class_=\"_cDEzb_p13n-sc-css-line-clamp-1_1Fn1y\").get_text(strip=True)\n",
    "    except:\n",
    "        author = \" \"\n",
    "\n",
    "    # Extract rating\n",
    "    try:\n",
    "        rating = book.find(\"span\", class_=\"a-icon-alt\").get_text(strip=True)\n",
    "    except:\n",
    "        rating = \" \"\n",
    "\n",
    "    # Extract reviews\n",
    "    try:\n",
    "        reviews = book.find(\"span\", {\"aria-hidden\": \"true\", \"class\": \"a-size-small\"}).get_text(strip=True)\n",
    "    except:\n",
    "        reviews = \" \"\n",
    "\n",
    "    # Extract price\n",
    "    try:\n",
    "        price = book.find(\"span\", class_=\"_cDEzb_p13n-sc-price_3mJ9Z\").get_text(strip=True)\n",
    "    except:\n",
    "        price = \" \"\n",
    "\n",
    "    data.append([book_name, author, rating, reviews, price])\n",
    "\n",
    "# --- Step 4: Save to Excel ---\n",
    "df = pd.DataFrame(data, columns=[\"Book Name\", \"Author\", \"Rating\", \"Reviews\", \"Price\"])\n",
    "df.to_csv(\"amazon_books.csv\", index=False)\n",
    "\n",
    "\n",
    "print(\"Data extracted and saved to amazon_books.xlsx\")\n"
   ]
  },
  {
   "cell_type": "code",
   "execution_count": 13,
   "id": "231f673e",
   "metadata": {},
   "outputs": [
    {
     "ename": "ModuleNotFoundError",
     "evalue": "No module named 'openpyxl'",
     "output_type": "error",
     "traceback": [
      "\u001b[31m---------------------------------------------------------------------------\u001b[39m",
      "\u001b[31mModuleNotFoundError\u001b[39m                       Traceback (most recent call last)",
      "\u001b[36mCell\u001b[39m\u001b[36m \u001b[39m\u001b[32mIn[13]\u001b[39m\u001b[32m, line 1\u001b[39m\n\u001b[32m----> \u001b[39m\u001b[32m1\u001b[39m \u001b[38;5;28;01mimport\u001b[39;00m\u001b[38;5;250m \u001b[39m\u001b[34;01mopenpyxl\u001b[39;00m\n\u001b[32m      2\u001b[39m \u001b[38;5;28mprint\u001b[39m(openpyxl.__version__)\n",
      "\u001b[31mModuleNotFoundError\u001b[39m: No module named 'openpyxl'"
     ]
    }
   ],
   "source": [
    "import openpyxl\n",
    "print(openpyxl.__version__)"
   ]
  },
  {
   "cell_type": "code",
   "execution_count": null,
   "id": "f9fdfa39",
   "metadata": {},
   "outputs": [],
   "source": [
    "\n"
   ]
  },
  {
   "cell_type": "code",
   "execution_count": null,
   "id": "a49a11d5",
   "metadata": {},
   "outputs": [],
   "source": []
  },
  {
   "cell_type": "code",
   "execution_count": null,
   "id": "5fe0fae2",
   "metadata": {},
   "outputs": [],
   "source": [
    "\n",
    "    "
   ]
  },
  {
   "cell_type": "code",
   "execution_count": null,
   "id": "e0c6e070",
   "metadata": {},
   "outputs": [],
   "source": [
    "a_names = soup.find_all(\"a\", class_=\"a-row a-size-small\")\n",
    "authers_names = [n.get_text(strip=True) for n in a_names]\n",
    "#for b in authers_names : \n",
    "   # print(b)"
   ]
  },
  {
   "cell_type": "code",
   "execution_count": null,
   "id": "e071a3cb",
   "metadata": {},
   "outputs": [],
   "source": [
    "ratings = soup.find_all(\"a\", spanclass_=\"a-icon-row\")\n",
    "rating= [n.get_text(strip=True) for n in ratings]\n",
    "for b in rating: \n",
    "    print(b)"
   ]
  },
  {
   "cell_type": "code",
   "execution_count": null,
   "id": "c9123cb1",
   "metadata": {},
   "outputs": [],
   "source": []
  }
 ],
 "metadata": {
  "kernelspec": {
   "display_name": ".venv",
   "language": "python",
   "name": "python3"
  },
  "language_info": {
   "codemirror_mode": {
    "name": "ipython",
    "version": 3
   },
   "file_extension": ".py",
   "mimetype": "text/x-python",
   "name": "python",
   "nbconvert_exporter": "python",
   "pygments_lexer": "ipython3",
   "version": "3.11.3"
  }
 },
 "nbformat": 4,
 "nbformat_minor": 5
}
